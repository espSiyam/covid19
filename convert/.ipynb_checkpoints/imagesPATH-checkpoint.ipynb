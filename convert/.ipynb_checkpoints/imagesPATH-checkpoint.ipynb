{
 "cells": [
  {
   "cell_type": "markdown",
   "metadata": {},
   "source": [
    "# New Dataset"
   ]
  },
  {
   "cell_type": "code",
   "execution_count": 56,
   "metadata": {},
   "outputs": [],
   "source": [
    "import os, glob\n",
    "\n",
    "images = os.listdir('C:/Users/Siyam/Desktop/github/covid19/convert/Yolo-to-COCO-format-converter-master/tutorial/train/')\n",
    "\n",
    "path = []\n",
    "os.chdir(\"C:/Users/Siyam/Desktop/github/covid19/convert/Yolo-to-COCO-format-converter-master/tutorial/train/\")\n",
    "for file in glob.glob(\"*.jpg\"):\n",
    "    path.append(\"C:/Users/Siyam/Desktop/github/covid19/convert/Yolo-to-COCO-format-converter-master/tutorial/train/\"+file)"
   ]
  },
  {
   "cell_type": "code",
   "execution_count": 51,
   "metadata": {},
   "outputs": [
    {
     "data": {
      "text/plain": [
       "6054"
      ]
     },
     "execution_count": 51,
     "metadata": {},
     "output_type": "execute_result"
    }
   ],
   "source": [
    "num_img = len(path)\n",
    "num_img"
   ]
  },
  {
   "cell_type": "code",
   "execution_count": 52,
   "metadata": {},
   "outputs": [],
   "source": [
    "with open('C:/Users/Siyam/Desktop/github/covid19/convert/Yolo-to-COCO-format-converter-master/tutorial/train.txt','w') as output:\n",
    "    for i in range(num_img):\n",
    "        output.write(str(path[i])+'\\n')"
   ]
  },
  {
   "cell_type": "code",
   "execution_count": 53,
   "metadata": {},
   "outputs": [
    {
     "data": {
      "text/plain": [
       "['obj.names', 'train', 'train.txt']"
      ]
     },
     "execution_count": 53,
     "metadata": {},
     "output_type": "execute_result"
    }
   ],
   "source": [
    "os.listdir('C:/Users/Siyam/Desktop/github/covid19/convert/Yolo-to-COCO-format-converter-master/tutorial')"
   ]
  },
  {
   "cell_type": "markdown",
   "metadata": {},
   "source": [
    "# Tweak"
   ]
  },
  {
   "cell_type": "code",
   "execution_count": 67,
   "metadata": {},
   "outputs": [],
   "source": [
    "import os, glob\n",
    "\n",
    "images = os.listdir('C:/Users/Siyam/Desktop/github/covid19/convert/Yolo-to-COCO-format-converter-master/tutorial/train/')\n",
    "\n",
    "path = []\n",
    "os.chdir(\"C:/Users/Siyam/Desktop/github/covid19/convert/Yolo-to-COCO-format-converter-master/tutorial/train/\")\n",
    "for file in glob.glob(\"*.txt\"):\n",
    "    file = os.path.splitext(file)[0]\n",
    "    path.append(\"C:/Users/Siyam/Desktop/github/covid19/convert/Yolo-to-COCO-format-converter-master/tutorial/train/\"+file+\".jpg\")"
   ]
  },
  {
   "cell_type": "code",
   "execution_count": 68,
   "metadata": {},
   "outputs": [
    {
     "data": {
      "text/plain": [
       "1463"
      ]
     },
     "execution_count": 68,
     "metadata": {},
     "output_type": "execute_result"
    }
   ],
   "source": [
    "len(path)"
   ]
  },
  {
   "cell_type": "code",
   "execution_count": null,
   "metadata": {},
   "outputs": [],
   "source": []
  }
 ],
 "metadata": {
  "kernelspec": {
   "display_name": "Python 3",
   "language": "python",
   "name": "python3"
  },
  "language_info": {
   "codemirror_mode": {
    "name": "ipython",
    "version": 3
   },
   "file_extension": ".py",
   "mimetype": "text/x-python",
   "name": "python",
   "nbconvert_exporter": "python",
   "pygments_lexer": "ipython3",
   "version": "3.7.7"
  }
 },
 "nbformat": 4,
 "nbformat_minor": 4
}
